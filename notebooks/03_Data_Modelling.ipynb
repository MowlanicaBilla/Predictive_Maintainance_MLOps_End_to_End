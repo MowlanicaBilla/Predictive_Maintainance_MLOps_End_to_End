{
 "cells": [
  {
   "cell_type": "code",
   "execution_count": 9,
   "metadata": {},
   "outputs": [
    {
     "name": "stdout",
     "output_type": "stream",
     "text": [
      "Libraries imported.\n"
     ]
    }
   ],
   "source": [
    "import numpy as np\n",
    "import pandas as pd\n",
    "import matplotlib.pyplot as plt\n",
    "import seaborn as sns\n",
    "import warnings\n",
    "\n",
    "from sklearn.model_selection import train_test_split\n",
    "from sklearn.linear_model import LogisticRegression\n",
    "from sklearn.svm import SVC\n",
    "from sklearn.tree import DecisionTreeClassifier\n",
    "from sklearn.ensemble import RandomForestClassifier\n",
    "from sklearn.metrics import accuracy_score, confusion_matrix, precision_score, recall_score, f1_score, classification_report\n",
    "\n",
    "\n",
    "warnings.filterwarnings('ignore')\n",
    "print('Libraries imported.')"
   ]
  },
  {
   "cell_type": "code",
   "execution_count": 3,
   "metadata": {},
   "outputs": [
    {
     "data": {
      "text/html": [
       "<div>\n",
       "<style scoped>\n",
       "    .dataframe tbody tr th:only-of-type {\n",
       "        vertical-align: middle;\n",
       "    }\n",
       "\n",
       "    .dataframe tbody tr th {\n",
       "        vertical-align: top;\n",
       "    }\n",
       "\n",
       "    .dataframe thead th {\n",
       "        text-align: right;\n",
       "    }\n",
       "</style>\n",
       "<table border=\"1\" class=\"dataframe\">\n",
       "  <thead>\n",
       "    <tr style=\"text-align: right;\">\n",
       "      <th></th>\n",
       "      <th>Type</th>\n",
       "      <th>Machine failure</th>\n",
       "      <th>Power</th>\n",
       "      <th>Rotational speed [rpm]</th>\n",
       "      <th>Torque [Nm]</th>\n",
       "      <th>Tool wear [min]</th>\n",
       "      <th>Air temperature [C]</th>\n",
       "      <th>Process temperature [C]</th>\n",
       "      <th>TYPE_OF_FAILURE</th>\n",
       "    </tr>\n",
       "  </thead>\n",
       "  <tbody>\n",
       "    <tr>\n",
       "      <th>0</th>\n",
       "      <td>1.0</td>\n",
       "      <td>0</td>\n",
       "      <td>66382.8</td>\n",
       "      <td>0.222934</td>\n",
       "      <td>0.535714</td>\n",
       "      <td>0.000000</td>\n",
       "      <td>0.304348</td>\n",
       "      <td>0.358025</td>\n",
       "      <td>1</td>\n",
       "    </tr>\n",
       "    <tr>\n",
       "      <th>1</th>\n",
       "      <td>0.0</td>\n",
       "      <td>0</td>\n",
       "      <td>65190.4</td>\n",
       "      <td>0.139697</td>\n",
       "      <td>0.583791</td>\n",
       "      <td>0.011858</td>\n",
       "      <td>0.315217</td>\n",
       "      <td>0.370370</td>\n",
       "      <td>1</td>\n",
       "    </tr>\n",
       "    <tr>\n",
       "      <th>2</th>\n",
       "      <td>0.0</td>\n",
       "      <td>0</td>\n",
       "      <td>74001.2</td>\n",
       "      <td>0.192084</td>\n",
       "      <td>0.626374</td>\n",
       "      <td>0.019763</td>\n",
       "      <td>0.304348</td>\n",
       "      <td>0.345679</td>\n",
       "      <td>1</td>\n",
       "    </tr>\n",
       "    <tr>\n",
       "      <th>3</th>\n",
       "      <td>0.0</td>\n",
       "      <td>0</td>\n",
       "      <td>56603.5</td>\n",
       "      <td>0.154249</td>\n",
       "      <td>0.490385</td>\n",
       "      <td>0.027668</td>\n",
       "      <td>0.315217</td>\n",
       "      <td>0.358025</td>\n",
       "      <td>1</td>\n",
       "    </tr>\n",
       "    <tr>\n",
       "      <th>4</th>\n",
       "      <td>0.0</td>\n",
       "      <td>0</td>\n",
       "      <td>56320.0</td>\n",
       "      <td>0.139697</td>\n",
       "      <td>0.497253</td>\n",
       "      <td>0.035573</td>\n",
       "      <td>0.315217</td>\n",
       "      <td>0.370370</td>\n",
       "      <td>1</td>\n",
       "    </tr>\n",
       "  </tbody>\n",
       "</table>\n",
       "</div>"
      ],
      "text/plain": [
       "   Type  Machine failure    Power  Rotational speed [rpm]  Torque [Nm]  \\\n",
       "0   1.0                0  66382.8                0.222934     0.535714   \n",
       "1   0.0                0  65190.4                0.139697     0.583791   \n",
       "2   0.0                0  74001.2                0.192084     0.626374   \n",
       "3   0.0                0  56603.5                0.154249     0.490385   \n",
       "4   0.0                0  56320.0                0.139697     0.497253   \n",
       "\n",
       "   Tool wear [min]  Air temperature [C]  Process temperature [C]  \\\n",
       "0         0.000000             0.304348                 0.358025   \n",
       "1         0.011858             0.315217                 0.370370   \n",
       "2         0.019763             0.304348                 0.345679   \n",
       "3         0.027668             0.315217                 0.358025   \n",
       "4         0.035573             0.315217                 0.370370   \n",
       "\n",
       "   TYPE_OF_FAILURE  \n",
       "0                1  \n",
       "1                1  \n",
       "2                1  \n",
       "3                1  \n",
       "4                1  "
      ]
     },
     "execution_count": 3,
     "metadata": {},
     "output_type": "execute_result"
    }
   ],
   "source": [
    "processed_df = pd.read_csv('./data/processed/data_processed.csv')\n",
    "processed_df.head()"
   ]
  },
  {
   "cell_type": "code",
   "execution_count": 5,
   "metadata": {},
   "outputs": [
    {
     "name": "stdout",
     "output_type": "stream",
     "text": [
      "<class 'pandas.core.frame.DataFrame'>\n",
      "RangeIndex: 57912 entries, 0 to 57911\n",
      "Data columns (total 9 columns):\n",
      " #   Column                   Non-Null Count  Dtype  \n",
      "---  ------                   --------------  -----  \n",
      " 0   Type                     57912 non-null  float64\n",
      " 1   Machine failure          57912 non-null  int64  \n",
      " 2   Power                    57912 non-null  float64\n",
      " 3   Rotational speed [rpm]   57912 non-null  float64\n",
      " 4   Torque [Nm]              57912 non-null  float64\n",
      " 5   Tool wear [min]          57912 non-null  float64\n",
      " 6   Air temperature [C]      57912 non-null  float64\n",
      " 7   Process temperature [C]  57912 non-null  float64\n",
      " 8   TYPE_OF_FAILURE          57912 non-null  int64  \n",
      "dtypes: float64(7), int64(2)\n",
      "memory usage: 4.0 MB\n"
     ]
    }
   ],
   "source": [
    "processed_df.info()"
   ]
  },
  {
   "cell_type": "code",
   "execution_count": 6,
   "metadata": {},
   "outputs": [],
   "source": [
    "processed_df.drop(['Rotational speed [rpm]', 'Torque [Nm]'],axis=1, inplace=True)"
   ]
  },
  {
   "cell_type": "code",
   "execution_count": 8,
   "metadata": {},
   "outputs": [],
   "source": [
    "\n",
    "X = processed_df.drop(['Machine failure', 'TYPE_OF_FAILURE'], axis=1)\n",
    "y = processed_df['Machine failure']\n",
    "\n",
    "X_train, X_test, y_train, y_test = train_test_split(X, y, test_size=0.2, random_state=42)"
   ]
  },
  {
   "cell_type": "markdown",
   "metadata": {},
   "source": [
    "## Predicting Machine Failure"
   ]
  },
  {
   "cell_type": "code",
   "execution_count": 16,
   "metadata": {},
   "outputs": [],
   "source": [
    "lr = LogisticRegression()\n",
    "svc = SVC()\n",
    "dt = DecisionTreeClassifier()\n",
    "rf = RandomForestClassifier()\n",
    "\n",
    "models = [lr, svc, dt, rf]\n",
    "scores = []\n",
    "\n",
    "for m in models:\n",
    "    m.fit(X_train, y_train)\n",
    "    y_pred = m.predict(X_test)\n",
    "    acc = accuracy_score(y_test, y_pred) * 100\n",
    "    prec = precision_score(y_test, y_pred) * 100\n",
    "    rec = recall_score(y_test, y_pred) * 100\n",
    "    f1 = f1_score(y_test, y_pred) * 100\n",
    "    scores.append([acc, prec, rec, f1])"
   ]
  },
  {
   "cell_type": "code",
   "execution_count": 17,
   "metadata": {},
   "outputs": [],
   "source": [
    "scores_df = pd.DataFrame(data=scores, columns=['Accuracy', 'Precision', 'Recall', 'F1'], index=['Logistic Regression', 'SVC', 'Decision Tree', 'Random Forest'])"
   ]
  },
  {
   "cell_type": "code",
   "execution_count": 18,
   "metadata": {},
   "outputs": [
    {
     "data": {
      "text/html": [
       "<div>\n",
       "<style scoped>\n",
       "    .dataframe tbody tr th:only-of-type {\n",
       "        vertical-align: middle;\n",
       "    }\n",
       "\n",
       "    .dataframe tbody tr th {\n",
       "        vertical-align: top;\n",
       "    }\n",
       "\n",
       "    .dataframe thead th {\n",
       "        text-align: right;\n",
       "    }\n",
       "</style>\n",
       "<table border=\"1\" class=\"dataframe\">\n",
       "  <thead>\n",
       "    <tr style=\"text-align: right;\">\n",
       "      <th></th>\n",
       "      <th>Accuracy</th>\n",
       "      <th>Precision</th>\n",
       "      <th>Recall</th>\n",
       "      <th>F1</th>\n",
       "    </tr>\n",
       "  </thead>\n",
       "  <tbody>\n",
       "    <tr>\n",
       "      <th>Logistic Regression</th>\n",
       "      <td>66.563067</td>\n",
       "      <td>66.563067</td>\n",
       "      <td>100.000000</td>\n",
       "      <td>79.925362</td>\n",
       "    </tr>\n",
       "    <tr>\n",
       "      <th>SVC</th>\n",
       "      <td>70.344470</td>\n",
       "      <td>76.890175</td>\n",
       "      <td>79.273671</td>\n",
       "      <td>78.063733</td>\n",
       "    </tr>\n",
       "    <tr>\n",
       "      <th>Decision Tree</th>\n",
       "      <td>98.955366</td>\n",
       "      <td>98.992899</td>\n",
       "      <td>99.442283</td>\n",
       "      <td>99.217082</td>\n",
       "    </tr>\n",
       "    <tr>\n",
       "      <th>Random Forest</th>\n",
       "      <td>99.274799</td>\n",
       "      <td>99.136598</td>\n",
       "      <td>99.779507</td>\n",
       "      <td>99.457014</td>\n",
       "    </tr>\n",
       "  </tbody>\n",
       "</table>\n",
       "</div>"
      ],
      "text/plain": [
       "                      Accuracy  Precision      Recall         F1\n",
       "Logistic Regression  66.563067  66.563067  100.000000  79.925362\n",
       "SVC                  70.344470  76.890175   79.273671  78.063733\n",
       "Decision Tree        98.955366  98.992899   99.442283  99.217082\n",
       "Random Forest        99.274799  99.136598   99.779507  99.457014"
      ]
     },
     "execution_count": 18,
     "metadata": {},
     "output_type": "execute_result"
    }
   ],
   "source": [
    "scores_df"
   ]
  },
  {
   "cell_type": "code",
   "execution_count": 20,
   "metadata": {},
   "outputs": [
    {
     "data": {
      "text/plain": [
       "'Random Forest'"
      ]
     },
     "execution_count": 20,
     "metadata": {},
     "output_type": "execute_result"
    }
   ],
   "source": [
    "scores_df['F1'].idxmax()"
   ]
  },
  {
   "cell_type": "code",
   "execution_count": 22,
   "metadata": {},
   "outputs": [
    {
     "data": {
      "text/html": [
       "<style>#sk-container-id-1 {color: black;}#sk-container-id-1 pre{padding: 0;}#sk-container-id-1 div.sk-toggleable {background-color: white;}#sk-container-id-1 label.sk-toggleable__label {cursor: pointer;display: block;width: 100%;margin-bottom: 0;padding: 0.3em;box-sizing: border-box;text-align: center;}#sk-container-id-1 label.sk-toggleable__label-arrow:before {content: \"▸\";float: left;margin-right: 0.25em;color: #696969;}#sk-container-id-1 label.sk-toggleable__label-arrow:hover:before {color: black;}#sk-container-id-1 div.sk-estimator:hover label.sk-toggleable__label-arrow:before {color: black;}#sk-container-id-1 div.sk-toggleable__content {max-height: 0;max-width: 0;overflow: hidden;text-align: left;background-color: #f0f8ff;}#sk-container-id-1 div.sk-toggleable__content pre {margin: 0.2em;color: black;border-radius: 0.25em;background-color: #f0f8ff;}#sk-container-id-1 input.sk-toggleable__control:checked~div.sk-toggleable__content {max-height: 200px;max-width: 100%;overflow: auto;}#sk-container-id-1 input.sk-toggleable__control:checked~label.sk-toggleable__label-arrow:before {content: \"▾\";}#sk-container-id-1 div.sk-estimator input.sk-toggleable__control:checked~label.sk-toggleable__label {background-color: #d4ebff;}#sk-container-id-1 div.sk-label input.sk-toggleable__control:checked~label.sk-toggleable__label {background-color: #d4ebff;}#sk-container-id-1 input.sk-hidden--visually {border: 0;clip: rect(1px 1px 1px 1px);clip: rect(1px, 1px, 1px, 1px);height: 1px;margin: -1px;overflow: hidden;padding: 0;position: absolute;width: 1px;}#sk-container-id-1 div.sk-estimator {font-family: monospace;background-color: #f0f8ff;border: 1px dotted black;border-radius: 0.25em;box-sizing: border-box;margin-bottom: 0.5em;}#sk-container-id-1 div.sk-estimator:hover {background-color: #d4ebff;}#sk-container-id-1 div.sk-parallel-item::after {content: \"\";width: 100%;border-bottom: 1px solid gray;flex-grow: 1;}#sk-container-id-1 div.sk-label:hover label.sk-toggleable__label {background-color: #d4ebff;}#sk-container-id-1 div.sk-serial::before {content: \"\";position: absolute;border-left: 1px solid gray;box-sizing: border-box;top: 0;bottom: 0;left: 50%;z-index: 0;}#sk-container-id-1 div.sk-serial {display: flex;flex-direction: column;align-items: center;background-color: white;padding-right: 0.2em;padding-left: 0.2em;position: relative;}#sk-container-id-1 div.sk-item {position: relative;z-index: 1;}#sk-container-id-1 div.sk-parallel {display: flex;align-items: stretch;justify-content: center;background-color: white;position: relative;}#sk-container-id-1 div.sk-item::before, #sk-container-id-1 div.sk-parallel-item::before {content: \"\";position: absolute;border-left: 1px solid gray;box-sizing: border-box;top: 0;bottom: 0;left: 50%;z-index: -1;}#sk-container-id-1 div.sk-parallel-item {display: flex;flex-direction: column;z-index: 1;position: relative;background-color: white;}#sk-container-id-1 div.sk-parallel-item:first-child::after {align-self: flex-end;width: 50%;}#sk-container-id-1 div.sk-parallel-item:last-child::after {align-self: flex-start;width: 50%;}#sk-container-id-1 div.sk-parallel-item:only-child::after {width: 0;}#sk-container-id-1 div.sk-dashed-wrapped {border: 1px dashed gray;margin: 0 0.4em 0.5em 0.4em;box-sizing: border-box;padding-bottom: 0.4em;background-color: white;}#sk-container-id-1 div.sk-label label {font-family: monospace;font-weight: bold;display: inline-block;line-height: 1.2em;}#sk-container-id-1 div.sk-label-container {text-align: center;}#sk-container-id-1 div.sk-container {/* jupyter's `normalize.less` sets `[hidden] { display: none; }` but bootstrap.min.css set `[hidden] { display: none !important; }` so we also need the `!important` here to be able to override the default hidden behavior on the sphinx rendered scikit-learn.org. See: https://github.com/scikit-learn/scikit-learn/issues/21755 */display: inline-block !important;position: relative;}#sk-container-id-1 div.sk-text-repr-fallback {display: none;}</style><div id=\"sk-container-id-1\" class=\"sk-top-container\"><div class=\"sk-text-repr-fallback\"><pre>RandomForestClassifier()</pre><b>In a Jupyter environment, please rerun this cell to show the HTML representation or trust the notebook. <br />On GitHub, the HTML representation is unable to render, please try loading this page with nbviewer.org.</b></div><div class=\"sk-container\" hidden><div class=\"sk-item\"><div class=\"sk-estimator sk-toggleable\"><input class=\"sk-toggleable__control sk-hidden--visually\" id=\"sk-estimator-id-1\" type=\"checkbox\" checked><label for=\"sk-estimator-id-1\" class=\"sk-toggleable__label sk-toggleable__label-arrow\">RandomForestClassifier</label><div class=\"sk-toggleable__content\"><pre>RandomForestClassifier()</pre></div></div></div></div></div>"
      ],
      "text/plain": [
       "RandomForestClassifier()"
      ]
     },
     "execution_count": 22,
     "metadata": {},
     "output_type": "execute_result"
    }
   ],
   "source": [
    "best_model_name = scores_df['F1'].idxmax()\n",
    "best_model = models[scores_df.index.get_loc(best_model_name)]\n",
    "best_model"
   ]
  },
  {
   "cell_type": "code",
   "execution_count": 23,
   "metadata": {},
   "outputs": [
    {
     "data": {
      "text/html": [
       "<div>\n",
       "<style scoped>\n",
       "    .dataframe tbody tr th:only-of-type {\n",
       "        vertical-align: middle;\n",
       "    }\n",
       "\n",
       "    .dataframe tbody tr th {\n",
       "        vertical-align: top;\n",
       "    }\n",
       "\n",
       "    .dataframe thead th {\n",
       "        text-align: right;\n",
       "    }\n",
       "</style>\n",
       "<table border=\"1\" class=\"dataframe\">\n",
       "  <thead>\n",
       "    <tr style=\"text-align: right;\">\n",
       "      <th></th>\n",
       "      <th>precision</th>\n",
       "      <th>recall</th>\n",
       "      <th>f1-score</th>\n",
       "      <th>support</th>\n",
       "    </tr>\n",
       "  </thead>\n",
       "  <tbody>\n",
       "    <tr>\n",
       "      <th>0</th>\n",
       "      <td>0.995553</td>\n",
       "      <td>0.982701</td>\n",
       "      <td>0.989085</td>\n",
       "      <td>3873.000000</td>\n",
       "    </tr>\n",
       "    <tr>\n",
       "      <th>1</th>\n",
       "      <td>0.991366</td>\n",
       "      <td>0.997795</td>\n",
       "      <td>0.994570</td>\n",
       "      <td>7710.000000</td>\n",
       "    </tr>\n",
       "    <tr>\n",
       "      <th>accuracy</th>\n",
       "      <td>0.992748</td>\n",
       "      <td>0.992748</td>\n",
       "      <td>0.992748</td>\n",
       "      <td>0.992748</td>\n",
       "    </tr>\n",
       "    <tr>\n",
       "      <th>macro avg</th>\n",
       "      <td>0.993460</td>\n",
       "      <td>0.990248</td>\n",
       "      <td>0.991828</td>\n",
       "      <td>11583.000000</td>\n",
       "    </tr>\n",
       "    <tr>\n",
       "      <th>weighted avg</th>\n",
       "      <td>0.992766</td>\n",
       "      <td>0.992748</td>\n",
       "      <td>0.992736</td>\n",
       "      <td>11583.000000</td>\n",
       "    </tr>\n",
       "  </tbody>\n",
       "</table>\n",
       "</div>"
      ],
      "text/plain": [
       "              precision    recall  f1-score       support\n",
       "0              0.995553  0.982701  0.989085   3873.000000\n",
       "1              0.991366  0.997795  0.994570   7710.000000\n",
       "accuracy       0.992748  0.992748  0.992748      0.992748\n",
       "macro avg      0.993460  0.990248  0.991828  11583.000000\n",
       "weighted avg   0.992766  0.992748  0.992736  11583.000000"
      ]
     },
     "execution_count": 23,
     "metadata": {},
     "output_type": "execute_result"
    }
   ],
   "source": [
    "report = classification_report(y_test, best_model.predict(X_test), output_dict=True)\n",
    "report_df = pd.DataFrame(report).transpose()\n",
    "report_df"
   ]
  },
  {
   "cell_type": "code",
   "execution_count": 24,
   "metadata": {},
   "outputs": [
    {
     "name": "stdout",
     "output_type": "stream",
     "text": [
      "{\"precision\":{\"0\":0.9955532304,\"1\":0.9913659794,\"accuracy\":0.9927479927,\"macro avg\":0.9934596049,\"weighted avg\":0.9927660677},\"recall\":{\"0\":0.9827007488,\"1\":0.9977950713,\"accuracy\":0.9927479927,\"macro avg\":0.9902479101,\"weighted avg\":0.9927479927},\"f1-score\":{\"0\":0.9890852391,\"1\":0.9945701357,\"accuracy\":0.9927479927,\"macro avg\":0.9918276874,\"weighted avg\":0.9927361545},\"support\":{\"0\":3873.0,\"1\":7710.0,\"accuracy\":0.9927479927,\"macro avg\":11583.0,\"weighted avg\":11583.0}}\n"
     ]
    }
   ],
   "source": [
    "obj = report_df.to_json()\n",
    "print(obj)"
   ]
  },
  {
   "cell_type": "code",
   "execution_count": 25,
   "metadata": {},
   "outputs": [
    {
     "data": {
      "text/plain": [
       "array([1, 1, 0, ..., 1, 0, 0])"
      ]
     },
     "execution_count": 25,
     "metadata": {},
     "output_type": "execute_result"
    }
   ],
   "source": [
    "best_model.predict(X_test)"
   ]
  },
  {
   "cell_type": "code",
   "execution_count": 26,
   "metadata": {},
   "outputs": [
    {
     "name": "stdout",
     "output_type": "stream",
     "text": [
      "{'0': {'precision': 0.9955532304472927, 'recall': 0.9827007487735605, 'f1-score': 0.989085239085239, 'support': 3873.0}, '1': {'precision': 0.9913659793814433, 'recall': 0.9977950713359274, 'f1-score': 0.9945701357466064, 'support': 7710.0}, 'accuracy': 0.9927479927479927, 'macro avg': {'precision': 0.993459604914368, 'recall': 0.9902479100547439, 'f1-score': 0.9918276874159226, 'support': 11583.0}, 'weighted avg': {'precision': 0.9927660677331687, 'recall': 0.9927479927479927, 'f1-score': 0.9927361545008604, 'support': 11583.0}}\n"
     ]
    },
    {
     "data": {
      "text/plain": [
       "'{\"precision\":{\"0\":0.9955532304,\"1\":0.9913659794,\"accuracy\":0.9927479927,\"macro avg\":0.9934596049,\"weighted avg\":0.9927660677},\"recall\":{\"0\":0.9827007488,\"1\":0.9977950713,\"accuracy\":0.9927479927,\"macro avg\":0.9902479101,\"weighted avg\":0.9927479927},\"f1-score\":{\"0\":0.9890852391,\"1\":0.9945701357,\"accuracy\":0.9927479927,\"macro avg\":0.9918276874,\"weighted avg\":0.9927361545},\"support\":{\"0\":3873.0,\"1\":7710.0,\"accuracy\":0.9927479927,\"macro avg\":11583.0,\"weighted avg\":11583.0}}'"
      ]
     },
     "execution_count": 26,
     "metadata": {},
     "output_type": "execute_result"
    }
   ],
   "source": [
    "report = classification_report(y_test, best_model.predict(X_test), output_dict=True)\n",
    "print(report)\n",
    "report  = pd.DataFrame(report).transpose()\n",
    "obj  = report.to_json()\n",
    "obj"
   ]
  },
  {
   "cell_type": "code",
   "execution_count": 27,
   "metadata": {},
   "outputs": [
    {
     "data": {
      "text/html": [
       "<div>\n",
       "<style scoped>\n",
       "    .dataframe tbody tr th:only-of-type {\n",
       "        vertical-align: middle;\n",
       "    }\n",
       "\n",
       "    .dataframe tbody tr th {\n",
       "        vertical-align: top;\n",
       "    }\n",
       "\n",
       "    .dataframe thead th {\n",
       "        text-align: right;\n",
       "    }\n",
       "</style>\n",
       "<table border=\"1\" class=\"dataframe\">\n",
       "  <thead>\n",
       "    <tr style=\"text-align: right;\">\n",
       "      <th></th>\n",
       "      <th>precision</th>\n",
       "      <th>recall</th>\n",
       "      <th>f1-score</th>\n",
       "      <th>support</th>\n",
       "    </tr>\n",
       "  </thead>\n",
       "  <tbody>\n",
       "    <tr>\n",
       "      <th>0</th>\n",
       "      <td>0.995553</td>\n",
       "      <td>0.982701</td>\n",
       "      <td>0.989085</td>\n",
       "      <td>3873.000000</td>\n",
       "    </tr>\n",
       "    <tr>\n",
       "      <th>1</th>\n",
       "      <td>0.991366</td>\n",
       "      <td>0.997795</td>\n",
       "      <td>0.994570</td>\n",
       "      <td>7710.000000</td>\n",
       "    </tr>\n",
       "    <tr>\n",
       "      <th>accuracy</th>\n",
       "      <td>0.992748</td>\n",
       "      <td>0.992748</td>\n",
       "      <td>0.992748</td>\n",
       "      <td>0.992748</td>\n",
       "    </tr>\n",
       "    <tr>\n",
       "      <th>macro avg</th>\n",
       "      <td>0.993460</td>\n",
       "      <td>0.990248</td>\n",
       "      <td>0.991828</td>\n",
       "      <td>11583.000000</td>\n",
       "    </tr>\n",
       "    <tr>\n",
       "      <th>weighted avg</th>\n",
       "      <td>0.992766</td>\n",
       "      <td>0.992748</td>\n",
       "      <td>0.992736</td>\n",
       "      <td>11583.000000</td>\n",
       "    </tr>\n",
       "  </tbody>\n",
       "</table>\n",
       "</div>"
      ],
      "text/plain": [
       "              precision    recall  f1-score       support\n",
       "0              0.995553  0.982701  0.989085   3873.000000\n",
       "1              0.991366  0.997795  0.994570   7710.000000\n",
       "accuracy       0.992748  0.992748  0.992748      0.992748\n",
       "macro avg      0.993460  0.990248  0.991828  11583.000000\n",
       "weighted avg   0.992766  0.992748  0.992736  11583.000000"
      ]
     },
     "execution_count": 27,
     "metadata": {},
     "output_type": "execute_result"
    }
   ],
   "source": [
    "rep = pd.read_json(obj)\n",
    "rep"
   ]
  },
  {
   "cell_type": "code",
   "execution_count": 28,
   "metadata": {},
   "outputs": [
    {
     "data": {
      "text/plain": [
       "1.0"
      ]
     },
     "execution_count": 28,
     "metadata": {},
     "output_type": "execute_result"
    }
   ],
   "source": [
    "type = 'M'\n",
    "\n",
    "if type == 'L':\n",
    "        type = 0\n",
    "elif type == 'M':\n",
    "    type = 1\n",
    "elif type == 'H':\n",
    "    type = 2\n",
    "\n",
    "type = float(type)\n",
    "type"
   ]
  },
  {
   "cell_type": "code",
   "execution_count": 30,
   "metadata": {},
   "outputs": [
    {
     "data": {
      "text/plain": [
       "array([1])"
      ]
     },
     "execution_count": 30,
     "metadata": {},
     "output_type": "execute_result"
    }
   ],
   "source": [
    "best_model.predict([[0.175738,0.477421,0.823187,0.363062,0.352309]])"
   ]
  },
  {
   "cell_type": "code",
   "execution_count": 31,
   "metadata": {},
   "outputs": [
    {
     "data": {
      "text/plain": [
       "Type                           0.950308\n",
       "Machine failure                1.000000\n",
       "Power                      64588.442649\n",
       "Tool wear [min]                0.815518\n",
       "Air temperature [C]            0.440791\n",
       "Process temperature [C]        0.492600\n",
       "TYPE_OF_FAILURE                5.000000\n",
       "Name: 57907, dtype: float64"
      ]
     },
     "execution_count": 31,
     "metadata": {},
     "output_type": "execute_result"
    }
   ],
   "source": [
    "processed_df.iloc[57907]"
   ]
  },
  {
   "cell_type": "markdown",
   "metadata": {},
   "source": [
    "Random Forest Classifier is th best performing model."
   ]
  },
  {
   "cell_type": "markdown",
   "metadata": {},
   "source": [
    "## Train Test Split"
   ]
  },
  {
   "cell_type": "code",
   "execution_count": 32,
   "metadata": {},
   "outputs": [],
   "source": [
    "X = processed_df.drop(['Machine failure', 'TYPE_OF_FAILURE'], axis=1)\n",
    "y = processed_df['TYPE_OF_FAILURE']\n",
    "\n",
    "X_train, X_test, y_train, y_test = train_test_split(X, y, test_size=0.2, random_state=42)"
   ]
  },
  {
   "cell_type": "markdown",
   "metadata": {},
   "source": [
    "## Predicting Type of Failure"
   ]
  },
  {
   "cell_type": "code",
   "execution_count": 33,
   "metadata": {},
   "outputs": [],
   "source": [
    "lr = LogisticRegression()\n",
    "svc = SVC()\n",
    "dt = DecisionTreeClassifier()\n",
    "rf = RandomForestClassifier()\n",
    "\n",
    "models = [lr, svc, dt, rf]\n",
    "scores = []\n",
    "\n",
    "for m in models:\n",
    "    m.fit(X_train, y_train)\n",
    "    y_pred = m.predict(X_test)\n",
    "    acc = accuracy_score(y_test, y_pred) * 100\n",
    "    prec = precision_score(y_test, y_pred, average='macro') * 100\n",
    "    rec = recall_score(y_test, y_pred, average='macro') * 100\n",
    "    f1 = f1_score(y_test, y_pred, average='macro') * 100\n",
    "    scores.append([acc, prec, rec, f1])"
   ]
  },
  {
   "cell_type": "code",
   "execution_count": 34,
   "metadata": {},
   "outputs": [
    {
     "data": {
      "text/html": [
       "<div>\n",
       "<style scoped>\n",
       "    .dataframe tbody tr th:only-of-type {\n",
       "        vertical-align: middle;\n",
       "    }\n",
       "\n",
       "    .dataframe tbody tr th {\n",
       "        vertical-align: top;\n",
       "    }\n",
       "\n",
       "    .dataframe thead th {\n",
       "        text-align: right;\n",
       "    }\n",
       "</style>\n",
       "<table border=\"1\" class=\"dataframe\">\n",
       "  <thead>\n",
       "    <tr style=\"text-align: right;\">\n",
       "      <th></th>\n",
       "      <th>Model</th>\n",
       "      <th>Accuracy</th>\n",
       "      <th>Precision</th>\n",
       "      <th>Recall</th>\n",
       "      <th>F1</th>\n",
       "    </tr>\n",
       "  </thead>\n",
       "  <tbody>\n",
       "    <tr>\n",
       "      <th>0</th>\n",
       "      <td>Logistic Regression</td>\n",
       "      <td>16.688250</td>\n",
       "      <td>2.781375</td>\n",
       "      <td>16.666667</td>\n",
       "      <td>4.767190</td>\n",
       "    </tr>\n",
       "    <tr>\n",
       "      <th>1</th>\n",
       "      <td>SVC</td>\n",
       "      <td>51.851852</td>\n",
       "      <td>43.731689</td>\n",
       "      <td>51.730842</td>\n",
       "      <td>44.625722</td>\n",
       "    </tr>\n",
       "    <tr>\n",
       "      <th>2</th>\n",
       "      <td>Decision Tree</td>\n",
       "      <td>98.592765</td>\n",
       "      <td>98.587688</td>\n",
       "      <td>98.600501</td>\n",
       "      <td>98.591230</td>\n",
       "    </tr>\n",
       "    <tr>\n",
       "      <th>3</th>\n",
       "      <td>Random Forest</td>\n",
       "      <td>99.222999</td>\n",
       "      <td>99.222782</td>\n",
       "      <td>99.230443</td>\n",
       "      <td>99.221912</td>\n",
       "    </tr>\n",
       "  </tbody>\n",
       "</table>\n",
       "</div>"
      ],
      "text/plain": [
       "                 Model   Accuracy  Precision     Recall         F1\n",
       "0  Logistic Regression  16.688250   2.781375  16.666667   4.767190\n",
       "1                  SVC  51.851852  43.731689  51.730842  44.625722\n",
       "2        Decision Tree  98.592765  98.587688  98.600501  98.591230\n",
       "3        Random Forest  99.222999  99.222782  99.230443  99.221912"
      ]
     },
     "execution_count": 34,
     "metadata": {},
     "output_type": "execute_result"
    }
   ],
   "source": [
    "scores_df = pd.DataFrame(columns=['Model'], data=['Logistic Regression', 'SVC', 'Decision Tree', 'Random Forest'])\n",
    "scores_df = pd.concat([scores_df, pd.DataFrame(scores, columns=['Accuracy', 'Precision', 'Recall', 'F1'])], axis=1)\n",
    "scores_df"
   ]
  },
  {
   "cell_type": "markdown",
   "metadata": {},
   "source": [
    "Random Forest Classifier is the best performing model."
   ]
  }
 ],
 "metadata": {
  "kernelspec": {
   "display_name": "pred_maintain",
   "language": "python",
   "name": "python3"
  },
  "language_info": {
   "codemirror_mode": {
    "name": "ipython",
    "version": 3
   },
   "file_extension": ".py",
   "mimetype": "text/x-python",
   "name": "python",
   "nbconvert_exporter": "python",
   "pygments_lexer": "ipython3",
   "version": "3.9.12"
  },
  "orig_nbformat": 4
 },
 "nbformat": 4,
 "nbformat_minor": 2
}
